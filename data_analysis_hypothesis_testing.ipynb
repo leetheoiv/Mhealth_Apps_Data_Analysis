{
 "cells": [
  {
   "attachments": {},
   "cell_type": "markdown",
   "metadata": {},
   "source": [
    "# Load Libraries"
   ]
  },
  {
   "cell_type": "code",
   "execution_count": 91,
   "metadata": {},
   "outputs": [],
   "source": [
    "from scipy.stats import ttest_ind\n",
    "import pandas as pd"
   ]
  },
  {
   "attachments": {},
   "cell_type": "markdown",
   "metadata": {},
   "source": [
    "**Load Data**"
   ]
  },
  {
   "cell_type": "code",
   "execution_count": 92,
   "metadata": {},
   "outputs": [],
   "source": [
    "df = pd.read_csv(r\"C:\\Users\\theod\\Downloads\\mhealth_app_review_data.csv\")"
   ]
  },
  {
   "cell_type": "code",
   "execution_count": 93,
   "metadata": {},
   "outputs": [
    {
     "data": {
      "text/html": [
       "<div>\n",
       "<style scoped>\n",
       "    .dataframe tbody tr th:only-of-type {\n",
       "        vertical-align: middle;\n",
       "    }\n",
       "\n",
       "    .dataframe tbody tr th {\n",
       "        vertical-align: top;\n",
       "    }\n",
       "\n",
       "    .dataframe thead th {\n",
       "        text-align: right;\n",
       "    }\n",
       "</style>\n",
       "<table border=\"1\" class=\"dataframe\">\n",
       "  <thead>\n",
       "    <tr style=\"text-align: right;\">\n",
       "      <th></th>\n",
       "      <th>AppID</th>\n",
       "      <th>PermissionToName</th>\n",
       "      <th>AppName</th>\n",
       "      <th>Reviewer</th>\n",
       "      <th>Platform</th>\n",
       "      <th>OS</th>\n",
       "      <th>Whichpopulationsistheapptargeting</th>\n",
       "      <th>Howwouldyoubestcategorizetheappdeveloper</th>\n",
       "      <th>Whatkindsofsupportdoesthedeveloperoffer</th>\n",
       "      <th>Wasanappropriateclinicalexpertinvolvedinappdevelopmentorqualitycontrol</th>\n",
       "      <th>...</th>\n",
       "      <th>iOSNumRatings</th>\n",
       "      <th>AndroidAvgRating</th>\n",
       "      <th>AndroidNumRatings</th>\n",
       "      <th>AndroidNumDownloads</th>\n",
       "      <th>iOSONLYPricetodownloadtheappindollars</th>\n",
       "      <th>iOSONLYPricetopurchaseALLinapppurchasesindollars</th>\n",
       "      <th>iOSONLYAnnualpricetopurchaseasubscriptionindollars</th>\n",
       "      <th>ANDROIDONLYPricetodownloadtheappindollars</th>\n",
       "      <th>ANDROIDONLYPricetopurchaseALLinapppurchasesindollars</th>\n",
       "      <th>ANDROIDONLYAnnualpricetopurchaseasubscriptionindollars</th>\n",
       "    </tr>\n",
       "  </thead>\n",
       "  <tbody>\n",
       "    <tr>\n",
       "      <th>0</th>\n",
       "      <td>5</td>\n",
       "      <td>n</td>\n",
       "      <td>NaN</td>\n",
       "      <td>clinician_reviewer</td>\n",
       "      <td>iPhone</td>\n",
       "      <td>iOS</td>\n",
       "      <td>None of the above</td>\n",
       "      <td>For-profit company</td>\n",
       "      <td>E-mail</td>\n",
       "      <td>No clinical expert involved</td>\n",
       "      <td>...</td>\n",
       "      <td>366</td>\n",
       "      <td>NaN</td>\n",
       "      <td>NaN</td>\n",
       "      <td>NaN</td>\n",
       "      <td>22.01</td>\n",
       "      <td>0.00</td>\n",
       "      <td>0.0</td>\n",
       "      <td>NaN</td>\n",
       "      <td>NaN</td>\n",
       "      <td>NaN</td>\n",
       "    </tr>\n",
       "    <tr>\n",
       "      <th>1</th>\n",
       "      <td>5</td>\n",
       "      <td>n</td>\n",
       "      <td>NaN</td>\n",
       "      <td>nonclinician_reviewer</td>\n",
       "      <td>iPad or iPad Mini</td>\n",
       "      <td>iOS</td>\n",
       "      <td>All of the above</td>\n",
       "      <td>For-profit company</td>\n",
       "      <td>E-mail, Phone</td>\n",
       "      <td>No clinical expert involved</td>\n",
       "      <td>...</td>\n",
       "      <td>NaN</td>\n",
       "      <td>NaN</td>\n",
       "      <td>NaN</td>\n",
       "      <td>NaN</td>\n",
       "      <td>15.00</td>\n",
       "      <td>0.00</td>\n",
       "      <td>0.0</td>\n",
       "      <td>NaN</td>\n",
       "      <td>NaN</td>\n",
       "      <td>NaN</td>\n",
       "    </tr>\n",
       "    <tr>\n",
       "      <th>2</th>\n",
       "      <td>13</td>\n",
       "      <td>y</td>\n",
       "      <td>Blood Pressure Companion</td>\n",
       "      <td>clinician_reviewer</td>\n",
       "      <td>Android tablet</td>\n",
       "      <td>Android</td>\n",
       "      <td>Hypertension</td>\n",
       "      <td>For-profit company</td>\n",
       "      <td>E-mail</td>\n",
       "      <td>Clinical expert involved</td>\n",
       "      <td>...</td>\n",
       "      <td>NaN</td>\n",
       "      <td>4.0</td>\n",
       "      <td>124.0</td>\n",
       "      <td>1,000 - 5,000</td>\n",
       "      <td>0.99</td>\n",
       "      <td>1.22</td>\n",
       "      <td>0.0</td>\n",
       "      <td>NaN</td>\n",
       "      <td>NaN</td>\n",
       "      <td>NaN</td>\n",
       "    </tr>\n",
       "    <tr>\n",
       "      <th>3</th>\n",
       "      <td>13</td>\n",
       "      <td>y</td>\n",
       "      <td>Blood Pressure Companion</td>\n",
       "      <td>nonclinician_reviewer</td>\n",
       "      <td>Android tablet</td>\n",
       "      <td>Android</td>\n",
       "      <td>Hypertension</td>\n",
       "      <td>For-profit company</td>\n",
       "      <td>E-mail</td>\n",
       "      <td>No clinical expert involved</td>\n",
       "      <td>...</td>\n",
       "      <td>NaN</td>\n",
       "      <td>NaN</td>\n",
       "      <td>NaN</td>\n",
       "      <td>NaN</td>\n",
       "      <td>NaN</td>\n",
       "      <td>NaN</td>\n",
       "      <td>NaN</td>\n",
       "      <td>0.0</td>\n",
       "      <td>1.28</td>\n",
       "      <td>0.0</td>\n",
       "    </tr>\n",
       "    <tr>\n",
       "      <th>4</th>\n",
       "      <td>14</td>\n",
       "      <td>y</td>\n",
       "      <td>Blood Pressure Companion</td>\n",
       "      <td>clinician_reviewer</td>\n",
       "      <td>iPhone</td>\n",
       "      <td>iOS</td>\n",
       "      <td>Hypertension</td>\n",
       "      <td>For-profit company</td>\n",
       "      <td>E-mail</td>\n",
       "      <td>No clinical expert involved</td>\n",
       "      <td>...</td>\n",
       "      <td>878</td>\n",
       "      <td>NaN</td>\n",
       "      <td>NaN</td>\n",
       "      <td>NaN</td>\n",
       "      <td>0.99</td>\n",
       "      <td>0.00</td>\n",
       "      <td>0.0</td>\n",
       "      <td>NaN</td>\n",
       "      <td>NaN</td>\n",
       "      <td>NaN</td>\n",
       "    </tr>\n",
       "  </tbody>\n",
       "</table>\n",
       "<p>5 rows × 51 columns</p>\n",
       "</div>"
      ],
      "text/plain": [
       "  AppID PermissionToName                   AppName               Reviewer  \\\n",
       "0     5                n                       NaN     clinician_reviewer   \n",
       "1     5                n                       NaN  nonclinician_reviewer   \n",
       "2    13                y  Blood Pressure Companion     clinician_reviewer   \n",
       "3    13                y  Blood Pressure Companion  nonclinician_reviewer   \n",
       "4    14                y  Blood Pressure Companion     clinician_reviewer   \n",
       "\n",
       "            Platform       OS Whichpopulationsistheapptargeting  \\\n",
       "0             iPhone      iOS                 None of the above   \n",
       "1  iPad or iPad Mini      iOS                  All of the above   \n",
       "2     Android tablet  Android                      Hypertension   \n",
       "3     Android tablet  Android                      Hypertension   \n",
       "4             iPhone      iOS                      Hypertension   \n",
       "\n",
       "  Howwouldyoubestcategorizetheappdeveloper  \\\n",
       "0                       For-profit company   \n",
       "1                       For-profit company   \n",
       "2                       For-profit company   \n",
       "3                       For-profit company   \n",
       "4                       For-profit company   \n",
       "\n",
       "  Whatkindsofsupportdoesthedeveloperoffer  \\\n",
       "0                                  E-mail   \n",
       "1                           E-mail, Phone   \n",
       "2                                  E-mail   \n",
       "3                                  E-mail   \n",
       "4                                  E-mail   \n",
       "\n",
       "  Wasanappropriateclinicalexpertinvolvedinappdevelopmentorqualitycontrol  ...  \\\n",
       "0                        No clinical expert involved                      ...   \n",
       "1                        No clinical expert involved                      ...   \n",
       "2                           Clinical expert involved                      ...   \n",
       "3                        No clinical expert involved                      ...   \n",
       "4                        No clinical expert involved                      ...   \n",
       "\n",
       "  iOSNumRatings AndroidAvgRating AndroidNumRatings AndroidNumDownloads  \\\n",
       "0           366              NaN               NaN                 NaN   \n",
       "1           NaN              NaN               NaN                 NaN   \n",
       "2           NaN              4.0             124.0       1,000 - 5,000   \n",
       "3           NaN              NaN               NaN                 NaN   \n",
       "4           878              NaN               NaN                 NaN   \n",
       "\n",
       "  iOSONLYPricetodownloadtheappindollars  \\\n",
       "0                                 22.01   \n",
       "1                                 15.00   \n",
       "2                                  0.99   \n",
       "3                                   NaN   \n",
       "4                                  0.99   \n",
       "\n",
       "  iOSONLYPricetopurchaseALLinapppurchasesindollars  \\\n",
       "0                                             0.00   \n",
       "1                                             0.00   \n",
       "2                                             1.22   \n",
       "3                                              NaN   \n",
       "4                                             0.00   \n",
       "\n",
       "  iOSONLYAnnualpricetopurchaseasubscriptionindollars  \\\n",
       "0                                                0.0   \n",
       "1                                                0.0   \n",
       "2                                                0.0   \n",
       "3                                                NaN   \n",
       "4                                                0.0   \n",
       "\n",
       "  ANDROIDONLYPricetodownloadtheappindollars  \\\n",
       "0                                       NaN   \n",
       "1                                       NaN   \n",
       "2                                       NaN   \n",
       "3                                       0.0   \n",
       "4                                       NaN   \n",
       "\n",
       "  ANDROIDONLYPricetopurchaseALLinapppurchasesindollars  \\\n",
       "0                                                NaN     \n",
       "1                                                NaN     \n",
       "2                                                NaN     \n",
       "3                                               1.28     \n",
       "4                                                NaN     \n",
       "\n",
       "  ANDROIDONLYAnnualpricetopurchaseasubscriptionindollars  \n",
       "0                                                NaN      \n",
       "1                                                NaN      \n",
       "2                                                NaN      \n",
       "3                                                0.0      \n",
       "4                                                NaN      \n",
       "\n",
       "[5 rows x 51 columns]"
      ]
     },
     "execution_count": 93,
     "metadata": {},
     "output_type": "execute_result"
    }
   ],
   "source": [
    "df.head()"
   ]
  },
  {
   "attachments": {},
   "cell_type": "markdown",
   "metadata": {},
   "source": [
    "**Check Data Types**"
   ]
  },
  {
   "cell_type": "code",
   "execution_count": 166,
   "metadata": {},
   "outputs": [
    {
     "name": "stdout",
     "output_type": "stream",
     "text": [
      "<class 'pandas.core.frame.DataFrame'>\n",
      "RangeIndex: 274 entries, 0 to 273\n",
      "Data columns (total 51 columns):\n",
      " #   Column                                                                                    Non-Null Count  Dtype  \n",
      "---  ------                                                                                    --------------  -----  \n",
      " 0   AppID                                                                                     274 non-null    object \n",
      " 1   PermissionToName                                                                          274 non-null    object \n",
      " 2   AppName                                                                                   100 non-null    object \n",
      " 3   Reviewer                                                                                  274 non-null    object \n",
      " 4   Platform                                                                                  274 non-null    object \n",
      " 5   OS                                                                                        274 non-null    object \n",
      " 6   Whichpopulationsistheapptargeting                                                         274 non-null    object \n",
      " 7   Howwouldyoubestcategorizetheappdeveloper                                                  274 non-null    object \n",
      " 8   Whatkindsofsupportdoesthedeveloperoffer                                                   274 non-null    object \n",
      " 9   ClinicanInvolved                                                                          274 non-null    object \n",
      " 10  Werepatientsinvolvedinappdevelopmentorqualitycontrol                                      274 non-null    object \n",
      " 11  Doestheappmakereferencetodiseasespecificguidelines                                        274 non-null    object \n",
      " 12  DoestheappclaimtobecompliantwiththeFDAguidelinessurroundingregulationofmobilemedicalapps  274 non-null    object \n",
      " 13  Doestheapprequirealogin                                                                   274 non-null    object \n",
      " 14  Doestheapphaveinappadvertising                                                            274 non-null    object \n",
      " 15  IfyouansweredYestothepriorquestionisitpossibletoupgradetoanadfreeversion                  274 non-null    object \n",
      " 16  Istheapptetheredtoahealthcaresystem                                                       274 non-null    object \n",
      " 17  Cantheappsyncdirectlywithaperipheraldevice                                                274 non-null    object \n",
      " 18  IftheappisaniOSappisitcompatiblewithHealthKit                                             274 non-null    object \n",
      " 19  IftheappisanAndroidappisitcompatiblewithGoogleFit                                         274 non-null    object \n",
      " 20  Doestheapphaveaprivacypolicy                                                              274 non-null    object \n",
      " 21  Doestheappdeveloperprovideruserinformationtoothersindividuallyorinaggregate               274 non-null    object \n",
      " 22  DoestheappclaimtomeetthestandardofHIPAAcompliance                                         274 non-null    object \n",
      " 23  Inwhatwaysdoestheappengagepatients                                                        274 non-null    object \n",
      " 24  Doestheapprewardtheuserforengagingwiththeapporachievinghealthgoals                        274 non-null    object \n",
      " 25  DoestheappengageusersthroughsocialmediaIfsohow                                            274 non-null    object \n",
      " 26  Doestheappappropriatelywarnuserscaregiversorclinicianswhendangerousinformationisentered   274 non-null    object \n",
      " 27  HowdoestheapphandlecommunicationorsharingofinformationwithCAREGIVERS                      274 non-null    object \n",
      " 28  HowdoestheapphandlecommunicationorsharingofinformationwithCLINICIANS                      274 non-null    object \n",
      " 29  IthinkthatIwouldliketousethisappfrequently                                                137 non-null    object \n",
      " 30  Ifoundtheappunnecessarilycomplex                                                          137 non-null    object \n",
      " 31  Ithoughttheappwaseasytouse                                                                137 non-null    object \n",
      " 32  IthinkthatIwouldneedthesupportofatechnicalpersontobeabletousethisapp                      137 non-null    object \n",
      " 33  Ifoundthevariousfunctionsinthisappwerewellintegrated                                      137 non-null    object \n",
      " 34  Ithoughttherewastoomuchinconsistencyinthisapp                                             137 non-null    object \n",
      " 35  Iwouldimaginethatmostpeoplewouldlearntousethisappveryquickly                              137 non-null    object \n",
      " 36  Ifoundtheappverycumbersometouse                                                           137 non-null    object \n",
      " 37  Ifeltveryconfidentusingtheapp                                                             137 non-null    object \n",
      " 38  IneededtolearnalotofthingsbeforeIcouldgetgoingwiththisapp                                 137 non-null    object \n",
      " 39  Howlikelyisitthatyouwouldrecommendthisapptoafriendorcolleague                             137 non-null    object \n",
      " 40  iOSAvgRating                                                                              78 non-null     float64\n",
      " 41  iOSNumRatings                                                                             78 non-null     float64\n",
      " 42  AndroidAvgRating                                                                          83 non-null     float64\n",
      " 43  AndroidNumRatings                                                                         80 non-null     float64\n",
      " 44  AndroidNumDownloads                                                                       85 non-null     object \n",
      " 45  iOSONLYPricetodownloadtheappindollars                                                     234 non-null    float64\n",
      " 46  iOSONLYPricetopurchaseALLinapppurchasesindollars                                          231 non-null    float64\n",
      " 47  iOSONLYAnnualpricetopurchaseasubscriptionindollars                                        228 non-null    float64\n",
      " 48  ANDROIDONLYPricetodownloadtheappindollars                                                 163 non-null    float64\n",
      " 49  ANDROIDONLYPricetopurchaseALLinapppurchasesindollars                                      163 non-null    float64\n",
      " 50  ANDROIDONLYAnnualpricetopurchaseasubscriptionindollars                                    161 non-null    float64\n",
      "dtypes: float64(10), object(41)\n",
      "memory usage: 109.3+ KB\n"
     ]
    }
   ],
   "source": [
    "df.info()"
   ]
  },
  {
   "attachments": {},
   "cell_type": "markdown",
   "metadata": {},
   "source": [
    "**Clean up Relevant Data Columns**"
   ]
  },
  {
   "cell_type": "code",
   "execution_count": 145,
   "metadata": {},
   "outputs": [
    {
     "name": "stderr",
     "output_type": "stream",
     "text": [
      "C:\\Users\\theod\\AppData\\Local\\Temp\\ipykernel_18928\\2723495580.py:1: FutureWarning: A value is trying to be set on a copy of a DataFrame or Series through chained assignment using an inplace method.\n",
      "The behavior will change in pandas 3.0. This inplace method will never work because the intermediate object on which we are setting values always behaves as a copy.\n",
      "\n",
      "For example, when doing 'df[col].method(value, inplace=True)', try using 'df.method({col: value}, inplace=True)' or df[col] = df[col].method(value) instead, to perform the operation inplace on the original object.\n",
      "\n",
      "\n",
      "  df[\"iOSNumRatings\"].replace({\"Taken off app store\":None},inplace=True)\n"
     ]
    }
   ],
   "source": [
    "df[\"iOSNumRatings\"].replace({\"Taken off app store\":None},inplace=True) # Replace such text with nan\n",
    "df[\"iOSAvgRating\"].replace({\"Taken off app store\":None},inplace=True) # Replace such text with nan\n",
    "df[\"iOSNumRatings\"] = df[\"iOSNumRatings\"].astype(float) # Update column data type\n",
    "df[\"iOSAvgRating\"] = df[\"iOSNumRatings\"].astype(float) # Update column data type"
   ]
  },
  {
   "cell_type": "code",
   "execution_count": 96,
   "metadata": {},
   "outputs": [],
   "source": [
    "# rename column for easier usability\n",
    "df.rename(columns={\"Wasanappropriateclinicalexpertinvolvedinappdevelopmentorqualitycontrol\":\"ClinicanInvolved\"},inplace=True) "
   ]
  },
  {
   "attachments": {},
   "cell_type": "markdown",
   "metadata": {},
   "source": [
    "# Statistical Testing"
   ]
  },
  {
   "attachments": {},
   "cell_type": "markdown",
   "metadata": {},
   "source": [
    "**Independent t-test**"
   ]
  },
  {
   "cell_type": "code",
   "execution_count": 169,
   "metadata": {},
   "outputs": [
    {
     "name": "stdout",
     "output_type": "stream",
     "text": [
      "Dataset A Mean: 21418.227272727272\n",
      "Dataseet B Mean: 1962.111111111111\n",
      "-------------------------------------------------\n",
      "Dataset A Variance: 9673600714.374458\n",
      "Dataseet B Variance: 20225360.36111111\n",
      "-------------------------------------------------\n",
      "Dataseet C Mean: 60521.72222222222\n",
      "Dataseet D Mean: 644.9090909090909\n",
      "-------------------------------------------------\n",
      "Dataseet C Variance: 65403734006.56536\n",
      "Dataseet D Variance: 2043083.2909090905\n"
     ]
    }
   ],
   "source": [
    "noClinican = df[(df[\"ClinicanInvolved\"] == \"No clinical expert involved\") & (df[\"Reviewer\"] == \"clinician_reviewer\")]\n",
    "Clinican_involved = df[(df[\"ClinicanInvolved\"] == \"Clinical expert involved\") & (df[\"Reviewer\"] == \"clinician_reviewer\")]\n",
    "\n",
    "a = noClinican['iOSNumRatings']\n",
    "b = Clinican_involved[\"iOSNumRatings\"]\n",
    "\n",
    "print(\"Dataset A Mean:\",a.mean())\n",
    "print(\"Dataseet B Mean:\",b.mean())\n",
    "print(\"-------------------------------------------------\")\n",
    "print(\"Dataset A Variance:\",a.var())\n",
    "print(\"Dataseet B Variance:\",b.var())\n",
    "\n",
    "c = noClinican['AndroidNumRatings']\n",
    "d = Clinican_involved[\"AndroidNumRatings\"]\n",
    "print(\"-------------------------------------------------\")\n",
    "print(\"Dataseet C Mean:\",c.mean())\n",
    "print(\"Dataseet D Mean:\",d.mean())\n",
    "print(\"-------------------------------------------------\")\n",
    "print(\"Dataseet C Variance:\",c.var())\n",
    "print(\"Dataseet D Variance:\",d.var())"
   ]
  },
  {
   "cell_type": "code",
   "execution_count": 140,
   "metadata": {},
   "outputs": [
    {
     "name": "stdout",
     "output_type": "stream",
     "text": [
      "TtestResult(statistic=np.float64(0.9254787342124383), pvalue=np.float64(0.36512616108395013), df=np.float64(21.21374729380766))\n",
      "TtestResult(statistic=np.float64(0.9933048560936946), pvalue=np.float64(0.3344889550279603), df=np.float64(17.001737938857534))\n"
     ]
    }
   ],
   "source": [
    "# Independent T-test\n",
    "# ( H_0 ): There is no association between clinical expert involvement in app development and the number of iOS ratings.\n",
    "# ( H_1 ): There is an association between clinical expert involvement in app development and the number of iOS ratings\n",
    "\n",
    "test_1 = ttest_ind(a,b,equal_var=False,nan_policy='omit',alternative='two-sided')\n",
    "test_2 = ttest_ind(c,d,equal_var=False,nan_policy='omit',alternative='two-sided')\n",
    "\n",
    "print(test_1)\n",
    "print(test_2)\n",
    "\n",
    "# Given these results, we fail to reject the null hypothesis at an alpha level of 0.05. \n",
    "# This suggests that there is insufficient evidence to conclude that clinician\n",
    "# involvement significantly affects the number of iOS ratings."
   ]
  },
  {
   "attachments": {},
   "cell_type": "markdown",
   "metadata": {},
   "source": [
    "**Estimating the Population Proportion For Clincial Expert Involvment in App Development**"
   ]
  },
  {
   "cell_type": "code",
   "execution_count": 138,
   "metadata": {},
   "outputs": [
    {
     "name": "stdout",
     "output_type": "stream",
     "text": [
      "Sample Proportion: 0.6423357664233577\n",
      "Confidence Interval (95.0%): (0.5620743875820725, 0.7225971452646428)\n"
     ]
    },
    {
     "name": "stderr",
     "output_type": "stream",
     "text": [
      "C:\\Users\\theod\\AppData\\Local\\Temp\\ipykernel_18928\\562777567.py:8: FutureWarning: Series.__getitem__ treating keys as positions is deprecated. In a future version, integer keys will always be treated as labels (consistent with DataFrame behavior). To access a value by position, use `ser.iloc[pos]`\n",
      "  p_hat = ((x.groupby(\"ClinicanInvolved\")[\"AppID\"].count()/2)/n)[0]\n"
     ]
    }
   ],
   "source": [
    "import scipy.stats as st\n",
    "import math\n",
    " \n",
    "x = noClinican.copy() # number of clinical experts not involved\n",
    "n = df.shape[0]/2 # divide by 2 because each app is recorded on 2 os systems\n",
    "\n",
    "# calculate the sample porportion\n",
    "p_hat = ((x.groupby(\"ClinicanInvolved\")[\"AppID\"].count()/2)/n)[0]\n",
    "\n",
    "# Set the confidence level\n",
    "confidence = 0.95\n",
    "\n",
    "# calculate z-score\n",
    "z = st.norm.ppf((1+confidence)/2)\n",
    "\n",
    "# Calculate the margin of error\n",
    "moe = z * math.sqrt((p_hat * (1-p_hat))/n) \n",
    "\n",
    "# calculate confidence interval\n",
    "lower_bound = p_hat - moe\n",
    "upper_bound = p_hat + moe\n",
    "\n",
    "print(\"Sample Proportion:\",p_hat)\n",
    "print(f\"Confidence Interval ({confidence*100}%): ({lower_bound}, {upper_bound})\")\n",
    "\n",
    "# The estimated proportion of apps developed without clinical professional involvement, approximately 64%, falls within a \n",
    "# 95% confidence interval ranging from 56.21% to 72.26%. This interval suggests that the sample statistic is likely reflective of \n",
    "# the broader population of health-related applications. However, further studies would be beneficial to confirm this finding across \n",
    "# a wider range of apps and contexts.\n"
   ]
  },
  {
   "attachments": {},
   "cell_type": "markdown",
   "metadata": {},
   "source": [
    "**Using an Anova to test whether there exist any significant differences between the average app rating based on developer category**"
   ]
  },
  {
   "cell_type": "code",
   "execution_count": 165,
   "metadata": {},
   "outputs": [
    {
     "data": {
      "text/plain": [
       "F_onewayResult(statistic=np.float64(0.20999884770703464), pvalue=np.float64(0.9321003744419887))"
      ]
     },
     "execution_count": 165,
     "metadata": {},
     "output_type": "execute_result"
    }
   ],
   "source": [
    "from scipy.stats import f_oneway\n",
    "# ( H_0 ): There is no association between clinical expert involvement in app development and the number of Android ratings.\n",
    "# ( H_1 ): There is an association between clinical expert involvement in app development and the number of Android ratings.\n",
    "\n",
    "# Testing IOS Significance\n",
    "category_means = df.groupby([\"Howwouldyoubestcategorizetheappdeveloper\",'Reviewer'])['iOSAvgRating'].agg(['mean']).unstack()\n",
    "for_profit = df[df['Howwouldyoubestcategorizetheappdeveloper'] == \"For-profit company\"][\"iOSAvgRating\"]\n",
    "government = df[df['Howwouldyoubestcategorizetheappdeveloper'] == \"Government agency\"][\"iOSAvgRating\"]\n",
    "individual = df[df['Howwouldyoubestcategorizetheappdeveloper'] == \"Individual\"][\"iOSAvgRating\"]\n",
    "medical = df[df['Howwouldyoubestcategorizetheappdeveloper'] == \"Medical professional society\"][\"iOSAvgRating\"]\n",
    "other = df[df['Howwouldyoubestcategorizetheappdeveloper'] == \"Other non-profit organization\"][\"iOSAvgRating\"]\n",
    "\n",
    "f_oneway(for_profit,government,individual,medical,other,nan_policy='omit')"
   ]
  },
  {
   "cell_type": "code",
   "execution_count": 164,
   "metadata": {},
   "outputs": [
    {
     "data": {
      "text/plain": [
       "F_onewayResult(statistic=np.float64(0.0887153928808212), pvalue=np.float64(0.9857265084083967))"
      ]
     },
     "execution_count": 164,
     "metadata": {},
     "output_type": "execute_result"
    }
   ],
   "source": [
    "# ( H_0 ): There is no difference in average app rating among different developer categories.\n",
    "# ( H_1 ): There is a difference in average app rating among different developer categories.\n",
    "\n",
    "# Testing for Android Significance\n",
    "for_profit = df[df['Howwouldyoubestcategorizetheappdeveloper'] == \"For-profit company\"][\"AndroidAvgRating\"]\n",
    "government = df[df['Howwouldyoubestcategorizetheappdeveloper'] == \"Government agency\"][\"AndroidAvgRating\"]\n",
    "individual = df[df['Howwouldyoubestcategorizetheappdeveloper'] == \"Individual\"][\"AndroidAvgRating\"]\n",
    "medical = df[df['Howwouldyoubestcategorizetheappdeveloper'] == \"Medical professional society\"][\"AndroidAvgRating\"]\n",
    "other = df[df['Howwouldyoubestcategorizetheappdeveloper'] == \"Other non-profit organization\"][\"AndroidAvgRating\"]\n",
    "\n",
    "f_oneway(for_profit,government,individual,medical,other,nan_policy='omit')\n",
    "\n",
    "# Based on the ANOVA results, we fail to reject the null hypothesis for both iOS and \n",
    "# Android average ratings at a significance level of 0.05. This suggests that there is insufficient evidence to conclude that there is \n",
    "# a significant difference in average app rating across different developer categories. \n",
    "# Therefore, we must accept the null hypothesis and reject the alternative hypothesis in both cases."
   ]
  }
 ],
 "metadata": {
  "kernelspec": {
   "display_name": "Python 3",
   "language": "python",
   "name": "python3"
  },
  "language_info": {
   "codemirror_mode": {
    "name": "ipython",
    "version": 3
   },
   "file_extension": ".py",
   "mimetype": "text/x-python",
   "name": "python",
   "nbconvert_exporter": "python",
   "pygments_lexer": "ipython3",
   "version": "3.12.4"
  },
  "orig_nbformat": 4
 },
 "nbformat": 4,
 "nbformat_minor": 2
}
